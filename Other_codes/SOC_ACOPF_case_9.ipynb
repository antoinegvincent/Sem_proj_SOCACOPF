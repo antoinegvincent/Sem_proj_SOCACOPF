{
 "cells": [
  {
   "cell_type": "code",
   "execution_count": 1,
   "metadata": {},
   "outputs": [],
   "source": [
    "import cvxpy as cp\n",
    "import numpy as np\n",
    "import math\n",
    "\n",
    "np.set_printoptions(suppress=True, precision=3)"
   ]
  },
  {
   "cell_type": "code",
   "execution_count": 13,
   "metadata": {},
   "outputs": [],
   "source": [
    "#CASE9    Power flow data for 9 bus, 3 generator case.\n",
    "\n",
    "baseMVA = 100\n",
    "\n",
    "# Bus data: bus_i, type, Pd, Qd, Gs, Bs, area, Vm, Va, baseKV, zone, Vmax, Vmin, Pg, Qg, Qmax, Qmin, Vg, mBase, status, Pmax, Pmin, startup, shutdown, n, c(n-1), ..., c0\n",
    "# Index   :     0,    1,  2,  3,  4,  5,    6,  7,  8,      9,   10,   11,   12, 13, 14,   15,   16, 17,    18,     19,   20,   21,      22,       23,24,     25,  26, 27\n",
    "bus_data = np.array([\n",
    "    [1, 3, 0, 0, 0, 0, 1, 1, 0, 345, 1, 1.1, 0.9, 0, 0, 300, -300, 1, 100, 1, 250, 10, 1500, 0, 3, 0.11, 5, 150],\n",
    "    [2, 2, 0, 0, 0, 0, 1, 1, 0, 345, 1, 1.1, 0.9, 163, 0, 300, -300, 1, 100, 1, 300, 10, 2000, 0, 3, 0.085,1.2, 600],\n",
    "    [3, 2, 0, 0, 0, 0, 1, 1, 0, 345, 1, 1.1, 0.9, 85, 0, 300, -300, 1, 100, 1, 270, 10, 3000, 0, 3, 0.1225, 1, 335],\n",
    "    [4, 1, 0, 0, 0, 0, 1, 1, 0, 345, 1, 1.1, 0.9, 0, 0, 0, 0, 0, 0, 0, 0, 0, 0, 0, 0, 0, 0, 0],\n",
    "    [5, 1, 90, 30, 0, 0, 1, 1, 0, 345, 1, 1.1, 0.9, 0, 0, 0, 0, 0, 0, 0, 0, 0, 0, 0, 0, 0, 0, 0],\n",
    "    [6, 1, 0, 0, 0, 0, 1, 1, 0, 345, 1, 1.1, 0.9, 0, 0, 0, 0, 0, 0, 0, 0, 0, 0, 0, 0, 0, 0, 0],\n",
    "    [7, 1, 100, 35, 0, 0, 1, 1, 0, 345, 1, 1.1, 0.9, 0, 0, 0, 0, 0, 0, 0, 0, 0, 0, 0, 0, 0, 0, 0],\n",
    "    [8, 1, 0, 0, 0, 0, 1, 1, 0, 345, 1, 1.1, 0.9, 0, 0, 0, 0, 0, 0, 0, 0, 0, 0, 0, 0, 0, 0, 0],\n",
    "    [9, 1, 125, 50, 0, 0, 1, 1, 0, 345, 1, 1.1, 0.9, 0, 0, 0, 0, 0, 0, 0, 0, 0, 0, 0, 0, 0, 0, 0]\n",
    "])\n",
    "\n",
    "\n",
    "# Branch data: fbus, tbus, r, x, b, rateA, rateB, rateC\n",
    "line_data = np.array([\n",
    "    [1, 4, 0, 0.0576, 0, 250, 250, 250],\n",
    "    [4, 5, 0.017, 0.092, 0.158, 250, 250, 250],\n",
    "    [5, 6, 0.039, 0.17, 0.358, 150, 150, 150],\n",
    "    [3, 6, 0, 0.0586, 0, 300, 300, 300],\n",
    "    [6, 7, 0.0119, 0.1008, 0.209, 150, 150, 150],\n",
    "    [7, 8, 0.0085, 0.072, 0.149, 250, 250, 250],\n",
    "    [8, 2, 0, 0.0625, 0, 250, 250, 250],\n",
    "    [8, 9, 0.032, 0.161, 0.306, 250, 250, 250],\n",
    "    [9, 4, 0.01, 0.085, 0.176, 250, 250, 250]\n",
    "])"
   ]
  },
  {
   "cell_type": "code",
   "execution_count": 14,
   "metadata": {},
   "outputs": [],
   "source": [
    "# Assuming the number of nodes and lines\n",
    "num_nodes = len(bus_data)  # Number of nodes\n",
    "num_lines = len(line_data)  # Number of lines\n",
    "\n",
    "# Define the Sending and receiving ends for each lines\n",
    "sending_node = line_data[:,0].astype(int)\n",
    "receiving_node = line_data[:,1].astype(int)\n",
    "\n",
    "# Define the constants A+, A-, G_n, B_n, and p_d, q_d for demand\n",
    "A_plus = np.zeros((num_lines,num_nodes)) # A+ matrix (num_nodes x num_lines)\n",
    "for i in range(num_lines):\n",
    "    A_plus[i,int(line_data[i,0]-1)] = 1\n",
    "    A_plus[i,int(line_data[i,1]-1)] = -1\n",
    "\n",
    "A_minus = np.zeros((num_lines,num_nodes)) # A- matrix (num_nodes x num_lines)\n",
    "for i in range(num_lines):\n",
    "    A_minus[i,int(line_data[i,0]-1)] = 0\n",
    "    A_minus[i,int(line_data[i,1]-1)] = -1\n",
    "\n",
    "A_plus = np.transpose(A_plus)\n",
    "A_minus = np.transpose(A_minus)\n",
    "\n",
    "G_n = bus_data[:,4]  # Nodal conductance\n",
    "B_n = bus_data[:,5]  # Nodal susceptance\n",
    "p_d = bus_data[:,2]/baseMVA  # Demand for active power at each node\n",
    "q_d = bus_data[:,3]/baseMVA  # Demand for reactive power at each node\n",
    "\n",
    "V_min = bus_data[:,12]**2  # Minimum voltage squared at each node\n",
    "V_max = bus_data[:,11]**2  # Maximum voltage squared at each node\n",
    "\n",
    "p_n_min = bus_data[:,21]/baseMVA  # Minimum active power at each node\n",
    "p_n_max = bus_data[:,20]/baseMVA  # Maximum active power at each node\n",
    "q_n_min = bus_data[:,16]/baseMVA  # Minimum reactive power at each node\n",
    "q_n_max = bus_data[:,15]/baseMVA  # Maximum reactive power at each node\n",
    "\n",
    "# theta_n min and max\n",
    "theta_n_min = -np.pi/2*np.ones(len(bus_data))  # Minimum bus angle \n",
    "theta_n_max = np.pi/2*np.ones(len(bus_data))  # Maximum bus angle\n",
    "\n",
    "# Define R_l, X_l and B_l (line resistances, reactances and susceptance)\n",
    "R_l = line_data[:,2]  # Resistance of each line\n",
    "X_l = line_data[:,3]  # Reactance of each line\n",
    "B_l = line_data[:,4]  # Susceptance of each line\n",
    "\n",
    "# theta_l min and max\n",
    "theta_l_min = -np.pi/2*np.ones(len(line_data))  # Minimum line angle (from relaxation assumption)\n",
    "theta_l_max = np.pi/2*np.ones(len(line_data))  # Maximum line angle (from relaxation assumption)\n",
    "\n",
    "# Kl, the equivalent ampacity for line losses\n",
    "K_l = 30 * np.ones(len(line_data))  #From czech assumption graph  # Ampacity for each line"
   ]
  },
  {
   "cell_type": "code",
   "execution_count": 15,
   "metadata": {},
   "outputs": [],
   "source": [
    "# Variables\n",
    "p_n = cp.Variable(num_nodes)  # Active power at node n\n",
    "q_n = cp.Variable(num_nodes)  # Reactive power at node n\n",
    "V_n = cp.Variable(num_nodes)  # Voltage magnitude squared at node n\n",
    "theta_n = cp.Variable(num_nodes)  # Voltage angles at node n\n",
    "\n",
    "p_sl = cp.Variable(num_lines)  # Active power at sending end of line l\n",
    "q_sl = cp.Variable(num_lines)  # Reactive power at sending end of line l\n",
    "p_ol = cp.Variable(num_lines)  # Active power losses on line l\n",
    "q_ol = cp.Variable(num_lines)  # Reactive power losses on line l\n",
    "K_ol = cp.Variable(num_lines)  # Branch Equivalent ampacity constraint on line l\n",
    "theta_l = cp.Variable(num_lines)  # Voltage angles at line l\n"
   ]
  },
  {
   "cell_type": "code",
   "execution_count": 16,
   "metadata": {},
   "outputs": [],
   "source": [
    "constraints = []\n",
    "\n",
    "#Variables related to buses bounds \n",
    "for n in range(num_nodes): \n",
    "    # Voltage Magnitude bounds (1k):\n",
    "    constraints.append(V_n[n] >= V_min[n])\n",
    "    constraints.append(V_n[n] <= V_max[n])\n",
    "\n",
    "    # Node angle bounds (1m):\n",
    "    constraints.append(theta_n[n] >= theta_n_min[n])\n",
    "    constraints.append(theta_n[n] <= theta_n_max[n])\n",
    "\n",
    "    # Active power bounds (1n)\n",
    "    constraints.append(p_n[n] >= p_n_min[n])\n",
    "    constraints.append(p_n[n] <= p_n_max[n])\n",
    "\n",
    "    # Reactive power bounds (1o)\n",
    "    constraints.append(q_n[n] >= q_n_min[n])\n",
    "    constraints.append(q_n[n] <= q_n_max[n])\n",
    "\n",
    "#Variables related to lines bounds \n",
    "for l in range(num_lines): \n",
    "    # Line angle bounds (1l):\n",
    "    constraints.append(theta_l[l] >= theta_l_min[l])\n",
    "    constraints.append(theta_l[l] <= theta_l_max[l])"
   ]
  },
  {
   "cell_type": "code",
   "execution_count": 17,
   "metadata": {},
   "outputs": [],
   "source": [
    "# Active power balance (1b)\n",
    "for n in range(num_nodes):\n",
    "    constraints.append(p_n[n] - p_d[n] == A_plus[n, :]@p_sl - A_minus[n, :]@p_ol + G_n[n]*V_n[n])\n",
    "\n",
    "# Reactive power balance (1c)\n",
    "for n in range(num_nodes):\n",
    "    constraints.append(q_n[n] - q_d[n] == A_plus[n, :]@q_sl - A_minus[n, :]@q_ol - B_n[n]*V_n[n])\n",
    "    \n",
    "# Voltage drop constraint (1d):\n",
    "for l in range(num_lines):\n",
    "    constraints.append(V_n[sending_node[l]-1] - V_n[receiving_node[l]-1] == 2*R_l[l]*p_sl[l] + 2*X_l[l]*q_sl[l] - R_l[l]*p_ol[l] - X_l[l]*q_ol[l])\n"
   ]
  },
  {
   "cell_type": "code",
   "execution_count": 18,
   "metadata": {},
   "outputs": [],
   "source": [
    "z_l = cp.Variable(num_lines)    # z_l >= sqrt(p_sl^2 + q_sl^2)\n",
    "\n",
    "#qV_l = cp.Variable(num_lines)   # Relaxed term of q_ol[l] * V_n[sending_node[l]-1]\n",
    "#for l in range(num_lines):\n",
    "    # Upper and lower bounds for the product of q_ol and V_n\n",
    "    #constraints.append(qV_l[l] >= q_ol[l] * V_min[sending_node[l]-1])  # Lower bound\n",
    "    #constraints.append(qV_l[l] <= q_ol[l] * V_max[sending_node[l]-1])  # Upper bound\n",
    "\n",
    "for l in range(num_lines):\n",
    "    # Active and reactive power losses constraint (relaxed) (2b)\n",
    "    constraints.append(K_ol[l] == (K_l[l] - V_n[sending_node[l]-1]*B_l[l]**2 + 2*q_sl[l]*B_l[l])*X_l[l])\n",
    "    constraints.append(K_ol[l] >= q_ol[l])\n",
    "    constraints.append(cp.SOC(z_l[l], np.sqrt(X_l[l])*cp.hstack([p_sl[l], q_sl[l]])))\n",
    "    constraints.append(cp.norm(cp.vstack([2*z_l[l], q_ol[l] - V_n[sending_node[l]-1]]),2) <= q_ol[l] + V_n[sending_node[l]-1])\n",
    "    #constraints.append(qV_l[l] >= z_l[l]**2 * X_l[l]) #the sending node should be a constant and not a variable\n",
    "    \n",
    "    # Power loss constraint (2c)\n",
    "    constraints.append(p_ol[l] * X_l[l] == q_ol[l] * R_l[l])\n",
    "\n",
    "    # Line angle constraint (1h)\n",
    "    constraints.append(theta_l[l] == theta_n[sending_node[l]-1] - theta_n[receiving_node[l]-1])"
   ]
  },
  {
   "cell_type": "code",
   "execution_count": 19,
   "metadata": {},
   "outputs": [],
   "source": [
    "for l in range(num_lines):\n",
    "    # Linearized angle constraint (2d):\n",
    "    constraints.append(theta_l[l] == X_l[l]*p_sl[l] - R_l[l]*q_sl[l])"
   ]
  },
  {
   "cell_type": "code",
   "execution_count": 20,
   "metadata": {},
   "outputs": [],
   "source": [
    "for l in range(num_lines):\n",
    "    # Equation (4g) :\n",
    "    constraints.append(V_n[sending_node[l]-1] + V_n[receiving_node[l]-1] >= cp.norm(cp.vstack([2*theta_l[l]/np.sin(theta_l_max[l]), V_n[sending_node[l]-1] - V_n[receiving_node[l]-1]]),2))"
   ]
  },
  {
   "cell_type": "code",
   "execution_count": 21,
   "metadata": {},
   "outputs": [],
   "source": [
    "# Objective: Minimize total generation cost\n",
    "objective = 0\n",
    "for i in range(num_nodes):\n",
    "    a = bus_data[i, 25]  # Quadratic cost coefficient\n",
    "    b = bus_data[i, 26]  # Linear cost coefficient\n",
    "    c = bus_data[i, 27]  # Constant cost coefficient\n",
    "    objective += a*cp.square(p_n[i]*baseMVA) + b*p_n[i]*baseMVA + c\n",
    "\n",
    "# Defining the optimization problem\n",
    "problem = cp.Problem(cp.Minimize(objective), constraints)"
   ]
  },
  {
   "cell_type": "code",
   "execution_count": 22,
   "metadata": {},
   "outputs": [
    {
     "data": {
      "text/plain": [
       "5310.082251206962"
      ]
     },
     "execution_count": 22,
     "metadata": {},
     "output_type": "execute_result"
    }
   ],
   "source": [
    "# Solve the problem\n",
    "problem.solve(solver=cp.SCS)  # You can also use other solvers like 'ECOS' or 'MOSEK'"
   ]
  },
  {
   "cell_type": "code",
   "execution_count": 23,
   "metadata": {},
   "outputs": [
    {
     "name": "stdout",
     "output_type": "stream",
     "text": [
      "Problem Status: optimal\n",
      "Optimal Value of the Objective Function: 5310.082251206962\n"
     ]
    }
   ],
   "source": [
    "print(\"Problem Status:\", problem.status)\n",
    "print(\"Optimal Value of the Objective Function:\", problem.value)"
   ]
  },
  {
   "cell_type": "code",
   "execution_count": 13,
   "metadata": {},
   "outputs": [
    {
     "data": {
      "text/plain": [
       "'eq2b_right = []\\nqolVsl = []\\nKolVsl = []\\nfor l in range (num_lines):\\n    eq2b_right.append((z_l[l].value**2 * X_l[l])/V_n[sending_node[l]-1].value)\\n    qolVsl.append(q_ol[l].value * V_n[sending_node[l]-1].value)\\n    KolVsl.append(K_ol[l].value * V_n[sending_node[l]-1].value)'"
      ]
     },
     "execution_count": 13,
     "metadata": {},
     "output_type": "execute_result"
    }
   ],
   "source": [
    "\"\"\"eq2b_right = []\n",
    "qolVsl = []\n",
    "KolVsl = []\n",
    "for l in range (num_lines):\n",
    "    eq2b_right.append((z_l[l].value**2 * X_l[l])/V_n[sending_node[l]-1].value)\n",
    "    qolVsl.append(q_ol[l].value * V_n[sending_node[l]-1].value)\n",
    "    KolVsl.append(K_ol[l].value * V_n[sending_node[l]-1].value)\"\"\""
   ]
  },
  {
   "cell_type": "code",
   "execution_count": 14,
   "metadata": {},
   "outputs": [
    {
     "name": "stdout",
     "output_type": "stream",
     "text": [
      "Optimal Values of p_ol: [0.    0.003 0.011 0.    0.002 0.003 0.    0.016 0.004]\n",
      "Optimal Values of q_ol: [0.061 0.014 0.049 0.051 0.016 0.026 0.106 0.079 0.035]\n",
      "Optimal Values of thata_l: [ 0.052  0.029 -0.09   0.055  0.036 -0.043 -0.084  0.11  -0.042]\n",
      "Optimal Values of thata_n: [ 0.007  0.107  0.071 -0.045 -0.073  0.016 -0.02   0.023 -0.087]\n"
     ]
    }
   ],
   "source": [
    "# Print with V_sl on the right side\n",
    "print(\"Optimal Values of p_ol:\", p_ol.value)\n",
    "print(\"Optimal Values of q_ol:\", q_ol.value)\n",
    "print(\"Optimal Values of thata_l:\", theta_l.value)\n",
    "print(\"Optimal Values of thata_n:\", theta_n.value)"
   ]
  },
  {
   "cell_type": "code",
   "execution_count": 15,
   "metadata": {},
   "outputs": [
    {
     "data": {
      "text/plain": [
       "'print(\"Optimal Values of K_ol:\", np.round(KolVsl,3))\\nprint(\"Optimal Values of q_ol:\", np.round(qolVsl,3))\\nprint(\"Optimal Values of q_Vl:\", qV_l.value)\\nprint(\"Optimal Values of mult:\", z_l.value**2 * X_l)'"
      ]
     },
     "execution_count": 15,
     "metadata": {},
     "output_type": "execute_result"
    }
   ],
   "source": [
    "# Print with V_sl on the left side\n",
    "\"\"\"print(\"Optimal Values of K_ol:\", np.round(KolVsl,3))\n",
    "print(\"Optimal Values of q_ol:\", np.round(qolVsl,3))\n",
    "print(\"Optimal Values of q_Vl:\", qV_l.value)\n",
    "print(\"Optimal Values of mult:\", z_l.value**2 * X_l)\"\"\""
   ]
  },
  {
   "cell_type": "code",
   "execution_count": 16,
   "metadata": {},
   "outputs": [
    {
     "name": "stdout",
     "output_type": "stream",
     "text": [
      "Optimal valu for p_sl: [ 0.901  0.354 -0.548  0.943  0.384 -0.618 -1.344  0.723 -0.543]\n",
      "Optimal valu for q_sl: [ 0.692  0.219 -0.095  0.397  0.202 -0.164 -0.393  0.202 -0.376]\n"
     ]
    }
   ],
   "source": [
    "print(\"Optimal valu for p_sl:\", p_sl.value)\n",
    "print(\"Optimal valu for q_sl:\", q_sl.value)"
   ]
  },
  {
   "cell_type": "code",
   "execution_count": 17,
   "metadata": {},
   "outputs": [
    {
     "name": "stdout",
     "output_type": "stream",
     "text": [
      "Optimal valu for p_n: [ 0.901  1.344  0.943 -0.    -0.    -0.    -0.    -0.    -0.   ]\n",
      "Optimal valu for q_n: [0.692 0.499 0.397 0.    0.    0.    0.    0.    0.   ]\n"
     ]
    }
   ],
   "source": [
    "print(\"Optimal valu for p_n:\", p_n.value)\n",
    "print(\"Optimal valu for q_n:\", q_n.value)"
   ]
  },
  {
   "cell_type": "code",
   "execution_count": 18,
   "metadata": {},
   "outputs": [
    {
     "name": "stdout",
     "output_type": "stream",
     "text": [
      "Optimal valu for V_n: [1.21  1.21  1.21  1.134 1.083 1.167 1.118 1.154 1.056]\n"
     ]
    }
   ],
   "source": [
    "print(\"Optimal valu for V_n:\", V_n.value)"
   ]
  },
  {
   "cell_type": "code",
   "execution_count": 19,
   "metadata": {},
   "outputs": [
    {
     "data": {
      "text/plain": [
       "array([0.  , 0.  , 0.  , 0.  , 0.9 , 0.  , 1.  , 0.  , 1.25])"
      ]
     },
     "execution_count": 19,
     "metadata": {},
     "output_type": "execute_result"
    }
   ],
   "source": [
    "p_d"
   ]
  },
  {
   "cell_type": "code",
   "execution_count": 66,
   "metadata": {},
   "outputs": [
    {
     "data": {
      "text/plain": [
       "3.188540894253992"
      ]
     },
     "execution_count": 66,
     "metadata": {},
     "output_type": "execute_result"
    }
   ],
   "source": [
    "sum(p_n.value)"
   ]
  },
  {
   "cell_type": "code",
   "execution_count": null,
   "metadata": {},
   "outputs": [],
   "source": []
  }
 ],
 "metadata": {
  "kernelspec": {
   "display_name": "Python 3",
   "language": "python",
   "name": "python3"
  },
  "language_info": {
   "codemirror_mode": {
    "name": "ipython",
    "version": 3
   },
   "file_extension": ".py",
   "mimetype": "text/x-python",
   "name": "python",
   "nbconvert_exporter": "python",
   "pygments_lexer": "ipython3",
   "version": "3.11.9"
  }
 },
 "nbformat": 4,
 "nbformat_minor": 2
}
